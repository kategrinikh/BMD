{
 "cells": [
  {
   "cell_type": "markdown",
   "metadata": {
    "colab_type": "text",
    "id": "0dKG-0kcOvBa"
   },
   "source": [
    "# t-критерій Стьюдента для незалежних вибірок"
   ]
  },
  {
   "cell_type": "markdown",
   "metadata": {
    "colab_type": "text",
    "id": "cIlCjn4RO0Gr"
   },
   "source": [
    "##Теоретичні відомості"
   ]
  },
  {
   "cell_type": "markdown",
   "metadata": {
    "colab_type": "text",
    "id": "fIEmaRDC8EYQ"
   },
   "source": [
    "t-критерій Стьюдента для незалежних вибірок порівнює середні двох груп, щоб визначити, чи є статистичні достовірні докази того, що групи відрізняються. **Це параметричний тест.**\n"
   ]
  },
  {
   "cell_type": "markdown",
   "metadata": {
    "colab_type": "text",
    "id": "1COxk0l1O87G"
   },
   "source": [
    "### Область застосування"
   ]
  },
  {
   "cell_type": "markdown",
   "metadata": {
    "colab_type": "text",
    "id": "i2ExJ3XaPTr4"
   },
   "source": [
    "t-критерій Стьюдента для незалежних вибірок використовується для:\n",
    "\n",
    "* визначення статистичних відмінностей між середніми двох груп\n",
    "\n",
    "*Примітка.* Даний тест може порівнювати середні лише для двох (і лише двох) груп. Він не може проводити порівняння більш ніж двох груп. "
   ]
  },
  {
   "cell_type": "markdown",
   "metadata": {
    "colab_type": "text",
    "id": "dpLSZD4mPDMx"
   },
   "source": [
    "### Вимоги до даних"
   ]
  },
  {
   "cell_type": "markdown",
   "metadata": {
    "colab_type": "text",
    "id": "pta7ByUO8Yxc"
   },
   "source": [
    "Ваші дані повинні відповідати наступним вимогам:\n",
    "\n",
    "1. Залежна змінна є кількісною і безперервною.\n",
    "2. Незалежна змінна є категоріальною.\n",
    "3. Немає взаємозв'язку між випробуванями у групах. Це означає що:\n",
    "* суб'єкти в першій групі також не можуть бути у другій групі\n",
    "* жоден суб'єкт в будь-якій групі не може впливати на суб'єктів в іншій групі\n",
    "* жодна група не може впливати на іншу групу\n",
    "Порушення цього припущення дасть неточне значення p\n",
    "4. Вибірка даних є випадковою\n",
    "5. Нормальний розподіл залежної (кількісної) змінної для кожної групи\n",
    "* ненормальний розподіл значно знижує потужність (точність) тесту\n",
    "* при дослідженні великих груп порушення нормальності все ще може дати точні значення p\n",
    "6. Однорідність дисперсій. \n",
    "* коли це припущення порушено і розміри вибірки для кожної групи відрізняються, значення p не є надійним. В цьому випадку застосовують альтернативний тест, який назіваеться t тестом Велча. Даний тест ґрунтується на припущенні відмінних дисперсій сукупності. \n",
    "7. Дані не містять викидів. \n",
    "\n",
    "Дослідники також мають притримуватися кількох правил:\n",
    "\n",
    "* Кожна група повинна мати щонайменше 6 спостережень, в ідеалі більше. \n",
    "\n",
    "* Збалансований дизайн (тобто однакова кількість спостережень у кожній групі). Групи, що мають значну відмінність в об'ємі можуть змінити достовірність отриманих результатів."
   ]
  },
  {
   "cell_type": "markdown",
   "metadata": {
    "colab_type": "text",
    "id": "P7aeDpVjPF-Z"
   },
   "source": [
    "### Гіпотеза"
   ]
  },
  {
   "cell_type": "markdown",
   "metadata": {
    "colab_type": "text",
    "id": "EPfCMt59_oz0"
   },
   "source": [
    "Гіпотеза, яка перевіряєть даним тестом може бути виражена наступним чином:\n",
    "\n",
    "$H_0 : μ_1  = μ_2$ («середні двох незалежних груп рівні»)\n",
    "\n",
    "$H_1 : μ_1  ≠ μ_2$ («середні двох незалежних груп відмінні»)\n",
    "\n",
    "або:\n",
    "\n",
    "$H_0 : μ_1  - μ_2 = 0$ («різниця між середніми у незалежних групах за показником, що досліджується рівна 0»)\n",
    "\n",
    "$H_1 : μ_1 -  μ_2$ ≠ 0 $ («різниця між середніми у незалежних групах за показником, що досліджується не рівна 0»)\n",
    "\n",
    "Тут $μ_1$ - середнє значення змінної в першій групі; $μ_2$ - середнє значення змінної в першій групі."
   ]
  },
  {
   "cell_type": "markdown",
   "metadata": {
    "colab_type": "text",
    "id": "ZfYgprcrPLGZ"
   },
   "source": [
    "### Алгоритм розрахунку"
   ]
  },
  {
   "cell_type": "markdown",
   "metadata": {
    "colab_type": "text",
    "id": "Hrnm4szRAC3m"
   },
   "source": [
    "Зважаючи на те, що однією з вимог для використанная данного критерію є однорідність дисперсій перед проведенням t-критерію Стьюдента для незалежних вибірок необхідним є проведення тесту Лівеня.\n"
   ]
  },
  {
   "cell_type": "markdown",
   "metadata": {
    "colab_type": "text",
    "id": "akpPreH4AuW_"
   },
   "source": [
    "#### Тест Лівеня для перевірки рівності дисперсій"
   ]
  },
  {
   "cell_type": "markdown",
   "metadata": {
    "colab_type": "text",
    "id": "jKwhq22PA18u"
   },
   "source": [
    "Нульова гіпотеза для даного тесту визлядає наступним чином:\n",
    "\n",
    "$$H_0: \\sigma_1^2 = \\sigma_2^2$$\n",
    "\n",
    "Генеральні дисперсії оцінюються на основі вибірок, а сам критерій є відношенням однієї дисперсії до іншої:\n",
    "\n",
    "$$F = \\frac{\\sigma_1^2}{\\sigma_2^2}$$\n",
    "\n",
    "При цьому на практиці в чисельнику розміщують більшу дисперсію, і знаменник - меншу.\n",
    "\n",
    "Ступінь свободи для даного тесту розраховується окремо для кожної вибірки: \n",
    "\n",
    "$$df = n - 1 $$\n",
    "\n",
    "За допомогою [таблиці критичних значень](https://drive.google.com/open?id=128lJvGOp013TuMF5Tcfr5Q2AC7FFvXEl)  знаходимо критичне значення. Якщо розраховане значення більше критичного - нульову гіпотезу відхиляють та роблять висновок про статистичну відмінність дисперсій. В протилежному випадку приймають нульову гіпотезу.\n"
   ]
  },
  {
   "cell_type": "code",
   "execution_count": 15,
   "metadata": {},
   "outputs": [],
   "source": [
    "import pandas as pd\n",
    "\n",
    "def livin(x, y, n1, n2):\n",
    "    \n",
    "    avgX=0\n",
    "    avgY=0\n",
    "    sumX=0\n",
    "    sumY=0\n",
    "    \n",
    "    for i in range(n1):\n",
    "            sumX+=x[i]\n",
    "    for i in range(n2):\n",
    "            sumY+=y[i]\n",
    "    avgX=sumX/n1\n",
    "    avgY=sumY/n2\n",
    "    \n",
    "    difX=0\n",
    "    difY=0\n",
    "    for i in range(n1):\n",
    "        difX+=(x[i]-avgX)**2\n",
    "    for i in range(n1):\n",
    "        difY+=(y[i]-avgY)**2\n",
    "        \n",
    "    sdX=(difX/n1)**(1/2)\n",
    "    sdY=(difY/n2)**(1/2)\n",
    "    \n",
    "    xl=pd.read_excel(r'C:\\Git\\BMD\\laba №7/tab1.xlsx', sheet_name='Лист1')\n",
    "    dfx=n1-1\n",
    "    dfy=n2-1\n",
    "    \n",
    "    a=xl.f2\n",
    "    d=len(a)\n",
    "    b=xl.ff1\n",
    "\n",
    "    if dfy==2:\n",
    "        b=xl.ff2\n",
    "    if dfy==3:\n",
    "        b=xl.ff3\n",
    "    if dfy==4:\n",
    "        b=xl.ff4\n",
    "    if dfy==5:\n",
    "        b=xl.ff5\n",
    "    if dfy==6:\n",
    "        b=xl.ff6\n",
    "    if dfy==7:\n",
    "        b=xl.ff7\n",
    "    if dfy==8:\n",
    "        b=xl.ff8\n",
    "    if dfy==9:\n",
    "        b=xl.ff9\n",
    "    if dfy==10:\n",
    "        b=xl.ff10\n",
    "    if dfy==15:\n",
    "        b=xl.ff15\n",
    "    if dfy>15:\n",
    "        b=xl.ff16\n",
    "       \n",
    "        \n",
    "    \n",
    "    for i in range(n1):\n",
    "        if dfx==a[i]:\n",
    "            c=b[i];\n",
    "    \n",
    "    if sdX>sdY:\n",
    "        f=(sdX**2)/(sdY**2)\n",
    "    else:\n",
    "        f=(sdY**2)/(sdX**2)\n",
    "        \n",
    "    print(\"Результат роботи тесту Лівеня: \")\n",
    "     \n",
    "    if c>f:\n",
    "        print(\"відмінність статистично не значима: \", c, \">\", f)\n",
    "    else:\n",
    "        print(\"відмінність статистично значима: \", c, \"<\", f)\n",
    "        \n",
    "    print(\"********************\")\n",
    "    return(c,f, sdX, sdY)\n",
    " "
   ]
  },
  {
   "cell_type": "markdown",
   "metadata": {
    "colab_type": "text",
    "id": "nTmiY7f7HCFe"
   },
   "source": [
    "#### t критерій для незалежних вибірок"
   ]
  },
  {
   "cell_type": "markdown",
   "metadata": {
    "colab_type": "text",
    "id": "35LaS12fHKqY"
   },
   "source": [
    "1. В залежності від того, чи підтвердується гіпотеза про рівність дисперсій застосовують один з двох підходів до роозрахунку криетрію для незалежних вибірок.\n",
    "\n",
    "#### Припускається рівність дисперсій\n",
    "\n",
    "Розрахунок t-критерію за формулою:\n",
    "\n",
    "$$t = \\frac{|M_1 - M_2|}{\\sqrt{\\frac{\\sigma_1^2}{N_1}+\\frac{\\sigma_2^2}{N_2}}} $$\n",
    "\n",
    "#### Рівність дисперсій не доведено\n",
    "\n",
    "Розрахунок t-критерію за формулою:\n",
    "\n",
    "$$t = \\frac{|M_1 - M_2|}{\\sqrt{\\frac{(N_1 - 1)\\sigma_1^2 + (N_2 - 1)\\sigma_2^2}{N_1 + N_2 - 2}(\\frac{1}{N_1}+\\frac{1}{N_2})}} $$\n",
    "\n",
    "Для обох формул:\n",
    "\n",
    "$M_1, M_2$ - середньоарифметичне для двох груп\n",
    "\n",
    "$\\sigma_1, \\sigma_2$ - стандартне відхилення\n",
    "\n",
    "$N_1, N_2$ - кількість спостережень в вибірках\n",
    "\n",
    "\n",
    "2. Визначаємо ступінь свободи:\n",
    "\n",
    "$$ \\,df = N_1 + N_2 - 2 $$\n",
    "\n",
    "3. Визначаємо по [таблиці критичних значень t-Стьюдента](https://drive.google.com/open?id=12IEWx2mkE-2_jkMgkHwvUUlVfCcmH7Ub) критичне значення.\n",
    "\n",
    "Якщо розраховане значення більше критичного - нульову гіпотезу відхиляють та роблять висновок про статистичну відмінність середніх. В протилежному випадку приймають нульову гіпотезу.\n"
   ]
  },
  {
   "cell_type": "code",
   "execution_count": 16,
   "metadata": {},
   "outputs": [],
   "source": [
    "import pandas as pd\n",
    "\n",
    "def student(x, y, n1, n2):\n",
    "    \n",
    "    sumX=0\n",
    "    sumY=0\n",
    "    c,f, sdX, sdY=livin(x,y,n1,n2)\n",
    "    for i in range(n1):\n",
    "        sumX+=x[i]\n",
    "    for i in range(n1):\n",
    "        sumY+=y[i]\n",
    "    mx=sumX/n1\n",
    "    my=sumY/n2\n",
    "    \n",
    "    if c>f:\n",
    "        t=abs(mx-my)/(((sdX**2)/n1)-(sdY**2)/n2)**(1/2)\n",
    "    else:\n",
    "        d1=(n1-1)*sdX**2+(n2-1)*sdY**2\n",
    "        d2=(1/n1)+(1/n2)\n",
    "        t=abs(mx-my)/(((d1/(n1+n2-2)))*d2)**(1/2)\n",
    "    \n",
    "    df=n1+n2-2\n",
    "    \n",
    "    xl=pd.read_excel(r'C:\\Git\\BMD\\laba №7/tab2.xlsx', sheet_name='Лист1')\n",
    "    \n",
    "    l=0\n",
    "    a=xl.dff\n",
    "    b=xl.p\n",
    "    n3=len(a)\n",
    "    for i in range(n3):\n",
    "        if a[i]==df:\n",
    "            l=i\n",
    "            \n",
    "    print(\"Результат роботи t-критерію: \")\n",
    "    print(\"Кількість ступенів свободи: \", df)\n",
    "\n",
    "    if t>b[l]:\n",
    "        print(\"присутня статистична відмінність середніх: \", t, \">\", b[l])\n",
    "    else:\n",
    "        print(\"статистична відмінність середніх відсутня: \", t, \"<\", b[l])\n",
    "    \n",
    "   \n",
    "    \n"
   ]
  },
  {
   "cell_type": "markdown",
   "metadata": {
    "colab_type": "text",
    "id": "Q4l7F1kePOoQ"
   },
   "source": [
    "## Завдання\n"
   ]
  },
  {
   "cell_type": "markdown",
   "metadata": {
    "colab_type": "text",
    "id": "dKlVUziSKf3v"
   },
   "source": [
    "# Завдання\n",
    "\n",
    "1. Обрати реальні дані з kaggle або сгенерувати випадкові дані. Дані мають відповідати вимогам викладеним вище. \n",
    "\n",
    "2. Побудувати графік, що відображає розкид даних в групах. Приклад:\n",
    "![alt text](https://s3.amazonaws.com/libapps/accounts/2515/images/spss_paired-t_example_boxplot.PNG)\n",
    "\n",
    "3. Написати функції:\n",
    "* для оцінки вімінностей дисперсій між групами за критерієм Лівеня. Функція має повертати значення тесту  та результат оцінки рівності дисперсій (significant або not significant).\n",
    "\n",
    "* для визначення відмінності між групами за критерієм Стьюдента в залежності від рівності/відмінності дисперсій. Функція має повертати значення критерію Стьюдента,значення ступеня свободи та результат оцінки значимості зв'зку (significant або not significant). \n",
    "\n",
    "4. Перевірити розбіжність на між групами на даних з п. 1. \n",
    "\n"
   ]
  },
  {
   "cell_type": "code",
   "execution_count": 17,
   "metadata": {},
   "outputs": [],
   "source": [
    "import numpy as np\n",
    "import pandas as pd\n",
    "\n",
    "N=16\n",
    "\n",
    "a1=abs(np.random.normal(20, 1, N))\n",
    "a2=abs(np.random.normal(20, 3, N))\n",
    "\n",
    "n1=np.round(a1)\n",
    "n2=np.round(a2)\n",
    "\n",
    "df=pd.DataFrame()\n",
    "df['group1']=n1\n",
    "df['group2']=n2"
   ]
  },
  {
   "cell_type": "code",
   "execution_count": 18,
   "metadata": {},
   "outputs": [
    {
     "data": {
      "text/html": [
       "<div>\n",
       "<style scoped>\n",
       "    .dataframe tbody tr th:only-of-type {\n",
       "        vertical-align: middle;\n",
       "    }\n",
       "\n",
       "    .dataframe tbody tr th {\n",
       "        vertical-align: top;\n",
       "    }\n",
       "\n",
       "    .dataframe thead th {\n",
       "        text-align: right;\n",
       "    }\n",
       "</style>\n",
       "<table border=\"1\" class=\"dataframe\">\n",
       "  <thead>\n",
       "    <tr style=\"text-align: right;\">\n",
       "      <th></th>\n",
       "      <th>group1</th>\n",
       "      <th>group2</th>\n",
       "    </tr>\n",
       "  </thead>\n",
       "  <tbody>\n",
       "    <tr>\n",
       "      <th>0</th>\n",
       "      <td>20.0</td>\n",
       "      <td>20.0</td>\n",
       "    </tr>\n",
       "    <tr>\n",
       "      <th>1</th>\n",
       "      <td>20.0</td>\n",
       "      <td>19.0</td>\n",
       "    </tr>\n",
       "    <tr>\n",
       "      <th>2</th>\n",
       "      <td>19.0</td>\n",
       "      <td>21.0</td>\n",
       "    </tr>\n",
       "    <tr>\n",
       "      <th>3</th>\n",
       "      <td>21.0</td>\n",
       "      <td>20.0</td>\n",
       "    </tr>\n",
       "    <tr>\n",
       "      <th>4</th>\n",
       "      <td>20.0</td>\n",
       "      <td>18.0</td>\n",
       "    </tr>\n",
       "  </tbody>\n",
       "</table>\n",
       "</div>"
      ],
      "text/plain": [
       "   group1  group2\n",
       "0    20.0    20.0\n",
       "1    20.0    19.0\n",
       "2    19.0    21.0\n",
       "3    21.0    20.0\n",
       "4    20.0    18.0"
      ]
     },
     "execution_count": 18,
     "metadata": {},
     "output_type": "execute_result"
    }
   ],
   "source": [
    "df.head()"
   ]
  },
  {
   "cell_type": "code",
   "execution_count": 19,
   "metadata": {},
   "outputs": [
    {
     "data": {
      "text/plain": [
       "<matplotlib.axes._subplots.AxesSubplot at 0x5b99a8448>"
      ]
     },
     "execution_count": 19,
     "metadata": {},
     "output_type": "execute_result"
    },
    {
     "data": {
      "image/png": "[encoded data removed]",
      "text/plain": [
       "<Figure size 432x288 with 1 Axes>"
      ]
     },
     "metadata": {
      "needs_background": "light"
     },
     "output_type": "display_data"
    }
   ],
   "source": [
    "import seaborn as sns\n",
    "%matplotlib inline\n",
    "\n",
    "sns.boxplot(data=df)"
   ]
  },
  {
   "cell_type": "code",
   "execution_count": 21,
   "metadata": {},
   "outputs": [
    {
     "name": "stdout",
     "output_type": "stream",
     "text": [
      "Результат роботи тесту Лівеня: \n",
      "відмінність статистично значима:  2.4 < 6.25\n",
      "********************\n",
      "Результат роботи t-критерію: \n",
      "Кількість ступенів свободи:  30\n",
      "статистична відмінність середніх відсутня:  0.7584205698830411 < 2.042\n"
     ]
    }
   ],
   "source": [
    "student(n1, n2, N, N)"
   ]
  }
 ],
 "metadata": {
  "colab": {
   "authorship_tag": "ABX9TyN+ogRjA4zijScFngnncBiH",
   "collapsed_sections": [],
   "name": "Tast7.ipynb",
   "provenance": []
  },
  "kernelspec": {
   "display_name": "Python 3",
   "language": "python",
   "name": "python3"
  },
  "language_info": {
   "codemirror_mode": {
    "name": "ipython",
    "version": 3
   },
   "file_extension": ".py",
   "mimetype": "text/x-python",
   "name": "python",
   "nbconvert_exporter": "python",
   "pygments_lexer": "ipython3",
   "version": "3.7.6"
  }
 },
 "nbformat": 4,
 "nbformat_minor": 1
}
