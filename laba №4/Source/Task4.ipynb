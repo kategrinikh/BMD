{
 "cells": [
  {
   "cell_type": "markdown",
   "metadata": {
    "colab_type": "text",
    "id": "2EyOSpkMJkLm"
   },
   "source": [
    "### **Перевірка даних на нормальність за допомогою критерію Шапіра-Уілка**"
   ]
  },
  {
   "cell_type": "markdown",
   "metadata": {
    "colab_type": "text",
    "id": "5PcijeprNVJF"
   },
   "source": [
    " \n",
    "\n",
    "1.   Сгенеруйте набір даних, що містить не менше 6 змінних. Частину змінних згенеруйте за нормальний розподілом, частину - за будь-яким іншим розподілом. Кількість спостережень - 20.\n",
    "\n",
    "\n",
    "\n",
    "\n"
   ]
  },
  {
   "cell_type": "code",
   "execution_count": 1,
   "metadata": {},
   "outputs": [],
   "source": [
    "import pandas as pd\n",
    "import numpy as np\n",
    "import matplotlib.pyplot as plt\n",
    "import seaborn as sns\n",
    "from scipy.stats import binom\n",
    "%matplotlib inline\n",
    "\n",
    "n=20\n",
    "p2=0.5\n",
    "\n",
    "n1=abs(np.random.normal(1, 12, n))\n",
    "n2=abs(np.random.normal(3, 6, n))\n",
    "n3=abs(np.random.normal(2, 100, n))\n",
    "b1=binom.rvs(17, p=0.7, loc=0, size=n)\n",
    "b2=binom.rvs(100, p2, loc=0, size=n)\n",
    "p=np.random.poisson(5,20)\n",
    "\n",
    "\n",
    "data=pd.DataFrame()\n",
    "data['normal1']=n1\n",
    "data['normal']=n2\n",
    "data['normal3']=n3\n",
    "data['binomial1']=b1\n",
    "data['binomial2']=b2\n",
    "data['poisson']=p\n"
   ]
  },
  {
   "cell_type": "code",
   "execution_count": 2,
   "metadata": {},
   "outputs": [
    {
     "data": {
      "text/html": [
       "<div>\n",
       "<style scoped>\n",
       "    .dataframe tbody tr th:only-of-type {\n",
       "        vertical-align: middle;\n",
       "    }\n",
       "\n",
       "    .dataframe tbody tr th {\n",
       "        vertical-align: top;\n",
       "    }\n",
       "\n",
       "    .dataframe thead th {\n",
       "        text-align: right;\n",
       "    }\n",
       "</style>\n",
       "<table border=\"1\" class=\"dataframe\">\n",
       "  <thead>\n",
       "    <tr style=\"text-align: right;\">\n",
       "      <th></th>\n",
       "      <th>normal1</th>\n",
       "      <th>normal</th>\n",
       "      <th>normal3</th>\n",
       "      <th>binomial1</th>\n",
       "      <th>binomial2</th>\n",
       "      <th>poisson</th>\n",
       "    </tr>\n",
       "  </thead>\n",
       "  <tbody>\n",
       "    <tr>\n",
       "      <th>0</th>\n",
       "      <td>11.463767</td>\n",
       "      <td>5.503970</td>\n",
       "      <td>68.255263</td>\n",
       "      <td>12</td>\n",
       "      <td>57</td>\n",
       "      <td>7</td>\n",
       "    </tr>\n",
       "    <tr>\n",
       "      <th>1</th>\n",
       "      <td>5.886868</td>\n",
       "      <td>1.936106</td>\n",
       "      <td>16.750922</td>\n",
       "      <td>12</td>\n",
       "      <td>42</td>\n",
       "      <td>5</td>\n",
       "    </tr>\n",
       "    <tr>\n",
       "      <th>2</th>\n",
       "      <td>7.732423</td>\n",
       "      <td>5.376572</td>\n",
       "      <td>274.035467</td>\n",
       "      <td>9</td>\n",
       "      <td>45</td>\n",
       "      <td>4</td>\n",
       "    </tr>\n",
       "    <tr>\n",
       "      <th>3</th>\n",
       "      <td>6.098779</td>\n",
       "      <td>1.548815</td>\n",
       "      <td>27.034616</td>\n",
       "      <td>15</td>\n",
       "      <td>49</td>\n",
       "      <td>4</td>\n",
       "    </tr>\n",
       "    <tr>\n",
       "      <th>4</th>\n",
       "      <td>0.650978</td>\n",
       "      <td>5.127620</td>\n",
       "      <td>38.219164</td>\n",
       "      <td>7</td>\n",
       "      <td>51</td>\n",
       "      <td>2</td>\n",
       "    </tr>\n",
       "    <tr>\n",
       "      <th>5</th>\n",
       "      <td>13.971860</td>\n",
       "      <td>0.012268</td>\n",
       "      <td>18.201442</td>\n",
       "      <td>12</td>\n",
       "      <td>54</td>\n",
       "      <td>4</td>\n",
       "    </tr>\n",
       "    <tr>\n",
       "      <th>6</th>\n",
       "      <td>11.063424</td>\n",
       "      <td>6.220677</td>\n",
       "      <td>57.654568</td>\n",
       "      <td>16</td>\n",
       "      <td>50</td>\n",
       "      <td>5</td>\n",
       "    </tr>\n",
       "    <tr>\n",
       "      <th>7</th>\n",
       "      <td>22.909302</td>\n",
       "      <td>16.434087</td>\n",
       "      <td>29.372896</td>\n",
       "      <td>11</td>\n",
       "      <td>54</td>\n",
       "      <td>7</td>\n",
       "    </tr>\n",
       "    <tr>\n",
       "      <th>8</th>\n",
       "      <td>1.432462</td>\n",
       "      <td>4.860314</td>\n",
       "      <td>196.086990</td>\n",
       "      <td>13</td>\n",
       "      <td>56</td>\n",
       "      <td>9</td>\n",
       "    </tr>\n",
       "    <tr>\n",
       "      <th>9</th>\n",
       "      <td>27.918714</td>\n",
       "      <td>3.021741</td>\n",
       "      <td>43.125362</td>\n",
       "      <td>6</td>\n",
       "      <td>53</td>\n",
       "      <td>1</td>\n",
       "    </tr>\n",
       "    <tr>\n",
       "      <th>10</th>\n",
       "      <td>0.952081</td>\n",
       "      <td>1.337811</td>\n",
       "      <td>88.160949</td>\n",
       "      <td>14</td>\n",
       "      <td>50</td>\n",
       "      <td>1</td>\n",
       "    </tr>\n",
       "    <tr>\n",
       "      <th>11</th>\n",
       "      <td>4.063299</td>\n",
       "      <td>0.060587</td>\n",
       "      <td>78.837699</td>\n",
       "      <td>11</td>\n",
       "      <td>54</td>\n",
       "      <td>3</td>\n",
       "    </tr>\n",
       "    <tr>\n",
       "      <th>12</th>\n",
       "      <td>4.964761</td>\n",
       "      <td>8.289363</td>\n",
       "      <td>44.550378</td>\n",
       "      <td>11</td>\n",
       "      <td>47</td>\n",
       "      <td>6</td>\n",
       "    </tr>\n",
       "    <tr>\n",
       "      <th>13</th>\n",
       "      <td>12.846312</td>\n",
       "      <td>0.749718</td>\n",
       "      <td>27.351143</td>\n",
       "      <td>10</td>\n",
       "      <td>49</td>\n",
       "      <td>3</td>\n",
       "    </tr>\n",
       "    <tr>\n",
       "      <th>14</th>\n",
       "      <td>6.802431</td>\n",
       "      <td>3.472085</td>\n",
       "      <td>64.944640</td>\n",
       "      <td>13</td>\n",
       "      <td>45</td>\n",
       "      <td>3</td>\n",
       "    </tr>\n",
       "    <tr>\n",
       "      <th>15</th>\n",
       "      <td>3.092995</td>\n",
       "      <td>2.328511</td>\n",
       "      <td>0.278180</td>\n",
       "      <td>15</td>\n",
       "      <td>56</td>\n",
       "      <td>5</td>\n",
       "    </tr>\n",
       "    <tr>\n",
       "      <th>16</th>\n",
       "      <td>17.056026</td>\n",
       "      <td>0.585148</td>\n",
       "      <td>3.684159</td>\n",
       "      <td>12</td>\n",
       "      <td>48</td>\n",
       "      <td>3</td>\n",
       "    </tr>\n",
       "    <tr>\n",
       "      <th>17</th>\n",
       "      <td>9.044918</td>\n",
       "      <td>0.739442</td>\n",
       "      <td>11.225064</td>\n",
       "      <td>13</td>\n",
       "      <td>55</td>\n",
       "      <td>3</td>\n",
       "    </tr>\n",
       "    <tr>\n",
       "      <th>18</th>\n",
       "      <td>10.449531</td>\n",
       "      <td>9.128009</td>\n",
       "      <td>115.817253</td>\n",
       "      <td>12</td>\n",
       "      <td>49</td>\n",
       "      <td>6</td>\n",
       "    </tr>\n",
       "    <tr>\n",
       "      <th>19</th>\n",
       "      <td>8.482802</td>\n",
       "      <td>4.038371</td>\n",
       "      <td>8.220017</td>\n",
       "      <td>10</td>\n",
       "      <td>45</td>\n",
       "      <td>3</td>\n",
       "    </tr>\n",
       "  </tbody>\n",
       "</table>\n",
       "</div>"
      ],
      "text/plain": [
       "      normal1     normal     normal3  binomial1  binomial2  poisson\n",
       "0   11.463767   5.503970   68.255263         12         57        7\n",
       "1    5.886868   1.936106   16.750922         12         42        5\n",
       "2    7.732423   5.376572  274.035467          9         45        4\n",
       "3    6.098779   1.548815   27.034616         15         49        4\n",
       "4    0.650978   5.127620   38.219164          7         51        2\n",
       "5   13.971860   0.012268   18.201442         12         54        4\n",
       "6   11.063424   6.220677   57.654568         16         50        5\n",
       "7   22.909302  16.434087   29.372896         11         54        7\n",
       "8    1.432462   4.860314  196.086990         13         56        9\n",
       "9   27.918714   3.021741   43.125362          6         53        1\n",
       "10   0.952081   1.337811   88.160949         14         50        1\n",
       "11   4.063299   0.060587   78.837699         11         54        3\n",
       "12   4.964761   8.289363   44.550378         11         47        6\n",
       "13  12.846312   0.749718   27.351143         10         49        3\n",
       "14   6.802431   3.472085   64.944640         13         45        3\n",
       "15   3.092995   2.328511    0.278180         15         56        5\n",
       "16  17.056026   0.585148    3.684159         12         48        3\n",
       "17   9.044918   0.739442   11.225064         13         55        3\n",
       "18  10.449531   9.128009  115.817253         12         49        6\n",
       "19   8.482802   4.038371    8.220017         10         45        3"
      ]
     },
     "execution_count": 2,
     "metadata": {},
     "output_type": "execute_result"
    }
   ],
   "source": [
    "data"
   ]
  },
  {
   "cell_type": "markdown",
   "metadata": {
    "colab_type": "text",
    "id": "TZ6nEDt-J6Sw"
   },
   "source": [
    "2.   Створіть функцію, що реалізує критерій Шапіро-Уілка та застосуйте її до кожної змінної набору данних.\n",
    "Детальний опис роботи критерію та приклад його розрахунку:\n",
    "https://pdfs.semanticscholar.org/e4a7/42a4f0585b4e4069726f6628f4d4285a0827.pdf\n",
    "\n"
   ]
  },
  {
   "cell_type": "code",
   "execution_count": 3,
   "metadata": {},
   "outputs": [],
   "source": [
    "def shap(m):\n",
    "    a=[0.4734, 0.3211, 0.2565, 0.2085, 0.1686, 0.1334, 0.1013, 0.0711, 0.0422, 0.014]\n",
    "    \n",
    "    m.sort()\n",
    "    ss=0\n",
    "    xs=0\n",
    "    w=0\n",
    "    sum1=0\n",
    "    sum2=0\n",
    "\n",
    "    for i in range(0,20):\n",
    "        sum1+=m[i]\n",
    "    xs=sum1/20\n",
    "    \n",
    "    for i in range(0,20):\n",
    "        ss+=(m[i]-xs)**2\n",
    "    \n",
    "    for i in range(0, 10):\n",
    "        sum2+=a[i]*(m[19-i]-m[i])\n",
    "    w=sum2**2/ss\n",
    "    \n",
    "    print(\"w(variable)= \", w)"
   ]
  },
  {
   "cell_type": "code",
   "execution_count": 4,
   "metadata": {},
   "outputs": [
    {
     "name": "stdout",
     "output_type": "stream",
     "text": [
      "w(variable)=  0.9097528338021963\n",
      "w(variable)=  0.8426198421852602\n",
      "w(variable)=  0.7598563920673768\n",
      "w(variable)=  0.956434512562396\n",
      "w(variable)=  0.9533579947879978\n",
      "w(variable)=  0.949667314778325\n"
     ]
    }
   ],
   "source": [
    "shap(n1)\n",
    "shap(n2)\n",
    "shap(n3)\n",
    "shap(b1)\n",
    "shap(b2)\n",
    "shap(p)"
   ]
  },
  {
   "cell_type": "code",
   "execution_count": 5,
   "metadata": {},
   "outputs": [
    {
     "name": "stdout",
     "output_type": "stream",
     "text": [
      "(0.8426315188407898, 0.004021274391561747)\n"
     ]
    }
   ],
   "source": [
    "import scipy.stats as stats\n",
    "d=stats.shapiro(n2)\n",
    "print(d)"
   ]
  },
  {
   "cell_type": "markdown",
   "metadata": {
    "colab_type": "text",
    "id": "1db-l1XakhYS"
   },
   "source": [
    "3. Сгенеруйте пусту таблицю, в якій кількість рядків - це кількість змінних + 1. Кількість стовбчиків - 3. Назва стовпчиків - Variable, Statistics, Distribution.\n",
    "Шаблон таблиці:\n",
    "https://drive.google.com/file/d/1gRNsk9UDhl_6GGkJ04q0cBWBgsJvTgI4/view?usp=sharing"
   ]
  },
  {
   "cell_type": "code",
   "execution_count": 6,
   "metadata": {},
   "outputs": [
    {
     "name": "stdout",
     "output_type": "stream",
     "text": [
      "+----------+------------+--------------+\n",
      "| Variable | Statistics | Distribution |\n",
      "+----------+------------+--------------+\n",
      "|          |            |              |\n",
      "|          |            |              |\n",
      "|          |            |              |\n",
      "|          |            |              |\n",
      "|          |            |              |\n",
      "|          |            |              |\n",
      "+----------+------------+--------------+\n"
     ]
    }
   ],
   "source": [
    "from prettytable import PrettyTable\n",
    "\n",
    "x=PrettyTable()\n",
    "\n",
    "x.field_names=[\"Variable\", \"Statistics\", \"Distribution\"]\n",
    "\n",
    "x.add_row([\" \", \" \", \" \"])\n",
    "x.add_row([\" \", \" \", \" \"])\n",
    "x.add_row([\" \", \" \", \" \"])\n",
    "x.add_row([\" \", \" \", \" \"])\n",
    "x.add_row([\" \", \" \", \" \"])\n",
    "x.add_row([\" \", \" \", \" \"])\n",
    "\n",
    "print(x)"
   ]
  },
  {
   "cell_type": "markdown",
   "metadata": {
    "colab_type": "text",
    "id": "Gt4u5fI5mHw7"
   },
   "source": [
    "4. Занести в стовпчик Variable назви змінних."
   ]
  },
  {
   "cell_type": "code",
   "execution_count": 7,
   "metadata": {},
   "outputs": [
    {
     "name": "stdout",
     "output_type": "stream",
     "text": [
      "+----------+------------+--------------+\n",
      "| Variable | Statistics | Distribution |\n",
      "+----------+------------+--------------+\n",
      "|    n1    |            |              |\n",
      "|    n2    |            |              |\n",
      "|    n3    |            |              |\n",
      "|    b1    |            |              |\n",
      "|    b2    |            |              |\n",
      "|    p     |            |              |\n",
      "+----------+------------+--------------+\n"
     ]
    }
   ],
   "source": [
    "x=PrettyTable()\n",
    "\n",
    "x.field_names=[\"Variable\", \"Statistics\", \"Distribution\"]\n",
    "\n",
    "x.add_row([\"n1\", \" \", \" \"])\n",
    "x.add_row([\"n2\", \" \", \" \"])\n",
    "x.add_row([\"n3\", \" \", \" \"])\n",
    "x.add_row([\"b1\", \" \", \" \"])\n",
    "x.add_row([\"b2\", \" \", \" \"])\n",
    "x.add_row([\"p\", \" \", \" \"])\n",
    "\n",
    "print(x)"
   ]
  },
  {
   "cell_type": "markdown",
   "metadata": {
    "colab_type": "text",
    "id": "VDPx0OrJmKMq"
   },
   "source": [
    "5. Занести в стовпчик Distribution результати роботи криетрію Шапіро-Уілка. Для змінних, які розподілені за нормальним законом вносити \"normal\", в протилежному вигляді - \"non-normal\"."
   ]
  },
  {
   "cell_type": "code",
   "execution_count": 8,
   "metadata": {},
   "outputs": [
    {
     "name": "stdout",
     "output_type": "stream",
     "text": [
      "+----------+------------+--------------------------------+\n",
      "| Variable | Statistics |          Distribution          |\n",
      "+----------+------------+--------------------------------+\n",
      "|    n1    |            |   normal 0.9165440337934687    |\n",
      "|    n2    |            |   normal 0.9657018001524992    |\n",
      "|    n3    |            |   normal 0.9092139577292566    |\n",
      "|    b1    |            | non-normal 0.9427762285714284  |\n",
      "|    b2    |            | non-normal  0.9460447397506367 |\n",
      "|    p     |            | non-normal 0.8713910699083861  |\n",
      "+----------+------------+--------------------------------+\n"
     ]
    }
   ],
   "source": [
    "x=PrettyTable()\n",
    "\n",
    "x.field_names=[\"Variable\", \"Statistics\", \"Distribution\"]\n",
    "\n",
    "x.add_row([\"n1\", \" \", \"normal 0.9165440337934687\"])\n",
    "x.add_row([\"n2\", \" \", \"normal 0.9657018001524992\"])\n",
    "x.add_row([\"n3\", \" \", \"normal 0.9092139577292566\"])\n",
    "x.add_row([\"b1\", \" \", \"non-normal 0.9427762285714284\"])\n",
    "x.add_row([\"b2\", \" \", \"non-normal  0.9460447397506367\"])\n",
    "x.add_row([\"p\", \" \", \"non-normal 0.8713910699083861 \"])\n",
    "\n",
    "print(x)"
   ]
  },
  {
   "cell_type": "markdown",
   "metadata": {
    "colab_type": "text",
    "id": "tNL5-LWjmgN_"
   },
   "source": [
    "6. Розрахувати для всіх змінних, що розподілені за нормальним законом розрахувати середне значення та стандартне відхилення. Записати в таблицю. Форма запису: Середнє [стандартне відхилення].\n",
    "\n"
   ]
  },
  {
   "cell_type": "code",
   "execution_count": 9,
   "metadata": {},
   "outputs": [],
   "source": [
    "def normal(t):\n",
    "    \n",
    "    SUM=0\n",
    "    xS=0\n",
    "    sd=0\n",
    "    sS=0\n",
    "    \n",
    "    for i in range(0,20):\n",
    "        SUM+=t[i]\n",
    "    xS=SUM/20\n",
    "    \n",
    "    for i in range(0,20):\n",
    "        sS+=(t[i]-xS)**2\n",
    "    sd=(sS/20)**(0.5)\n",
    "    \n",
    "    print(xS)\n",
    "    print(sd)"
   ]
  },
  {
   "cell_type": "code",
   "execution_count": 10,
   "metadata": {},
   "outputs": [
    {
     "name": "stdout",
     "output_type": "stream",
     "text": [
      "9.34418661618472\n",
      "6.920849402821637\n",
      "4.038560757040408\n",
      "3.8473098356666746\n",
      "60.59030864522314\n",
      "66.40403233267357\n"
     ]
    }
   ],
   "source": [
    "normal(n1)\n",
    "normal(n2)\n",
    "normal(n3)"
   ]
  },
  {
   "cell_type": "code",
   "execution_count": 11,
   "metadata": {},
   "outputs": [
    {
     "name": "stdout",
     "output_type": "stream",
     "text": [
      "+----------+----------------------------------------+--------------------------------+\n",
      "| Variable |               Statistics               |          Distribution          |\n",
      "+----------+----------------------------------------+--------------------------------+\n",
      "|    n1    | 9.831128527995801, [6.144434242626973] |   normal 0.9165440337934687    |\n",
      "|    n2    | 5.097140902679359, [3.124054866519493] |   normal 0.9657018001524992    |\n",
      "|    n3    | 73.43321478755448, [49.41642537079125] |   normal 0.9092139577292566    |\n",
      "|    b1    |                                        | non-normal 0.9427762285714284  |\n",
      "|    b2    |                                        | non-normal  0.9460447397506367 |\n",
      "|    p     |                                        | non-normal 0.8713910699083861  |\n",
      "+----------+----------------------------------------+--------------------------------+\n"
     ]
    }
   ],
   "source": [
    "x=PrettyTable()\n",
    "\n",
    "x.field_names=[\"Variable\", \"Statistics\", \"Distribution\"]\n",
    "\n",
    "x.add_row([\"n1\", \"9.831128527995801, [6.144434242626973]\", \"normal 0.9165440337934687\"])\n",
    "x.add_row([\"n2\", \"5.097140902679359, [3.124054866519493]\", \"normal 0.9657018001524992\"])\n",
    "x.add_row([\"n3\", \"73.43321478755448, [49.41642537079125]\", \"normal 0.9092139577292566\"])\n",
    "x.add_row([\"b1\", \" \", \"non-normal 0.9427762285714284\"])\n",
    "x.add_row([\"b2\", \" \", \"non-normal  0.9460447397506367\"])\n",
    "x.add_row([\"p\", \" \", \"non-normal 0.8713910699083861 \"])\n",
    "\n",
    "print(x)"
   ]
  },
  {
   "cell_type": "markdown",
   "metadata": {
    "colab_type": "text",
    "id": "yNpJG4jLm6HR"
   },
   "source": [
    "7. Розрахувати для всіх змінних, що розподілені за розподілом відсутнім від нормального розрахувати медіану та інтерквартильний розмах. Записати в таблицю. Форма запису: Медіана [25%; 75%]."
   ]
  },
  {
   "cell_type": "code",
   "execution_count": 12,
   "metadata": {},
   "outputs": [],
   "source": [
    "def med(q):\n",
    "    q.sort()\n",
    "    N=len(q)\n",
    "    \n",
    "    if n%2==0:\n",
    "        median1=q[N//2]\n",
    "        median2=q[N//2-1]\n",
    "        median=(median1+median2)/2\n",
    "    else:\n",
    "        median=q[n//2]\n",
    "      \n",
    "    q25, q75=np.percentile(q, [25,75])\n",
    "    print(median, q25, q75)"
   ]
  },
  {
   "cell_type": "code",
   "execution_count": 13,
   "metadata": {},
   "outputs": [
    {
     "name": "stdout",
     "output_type": "stream",
     "text": [
      "12.0 10.75 13.0\n",
      "50.0 47.75 54.0\n",
      "4.0 3.0 5.25\n"
     ]
    }
   ],
   "source": [
    "med(b1)\n",
    "med(b2)\n",
    "med(p)"
   ]
  },
  {
   "cell_type": "code",
   "execution_count": 14,
   "metadata": {},
   "outputs": [
    {
     "name": "stdout",
     "output_type": "stream",
     "text": [
      "+----------+----------------------------------------+--------------------------------+\n",
      "| Variable |               Statistics               |          Distribution          |\n",
      "+----------+----------------------------------------+--------------------------------+\n",
      "|    n1    | 9.831128527995801, [6.144434242626973] |   normal 0.9165440337934687    |\n",
      "|    n2    | 5.097140902679359, [3.124054866519493] |   normal 0.9657018001524992    |\n",
      "|    n3    | 73.43321478755448, [49.41642537079125] |   normal 0.9092139577292566    |\n",
      "|    b1    |           12.0 [11.0; 14.0]            | non-normal 0.9427762285714284  |\n",
      "|    b2    |           49.0 [45.0; 50.25]           | non-normal  0.9460447397506367 |\n",
      "|    p     |             4.5 [3.0; 6.0]             | non-normal 0.8713910699083861  |\n",
      "+----------+----------------------------------------+--------------------------------+\n"
     ]
    }
   ],
   "source": [
    "x=PrettyTable()\n",
    "\n",
    "x.field_names=[\"Variable\", \"Statistics\", \"Distribution\"]\n",
    "\n",
    "x.add_row([\"n1\", \"9.831128527995801, [6.144434242626973]\", \"normal 0.9165440337934687\"])\n",
    "x.add_row([\"n2\", \"5.097140902679359, [3.124054866519493]\", \"normal 0.9657018001524992\"])\n",
    "x.add_row([\"n3\", \"73.43321478755448, [49.41642537079125]\", \"normal 0.9092139577292566\"])\n",
    "x.add_row([\"b1\", \"12.0 [11.0; 14.0]\", \"non-normal 0.9427762285714284\"])\n",
    "x.add_row([\"b2\", \"49.0 [45.0; 50.25]\", \"non-normal  0.9460447397506367\"])\n",
    "x.add_row([\"p\", \"4.5 [3.0; 6.0]\", \"non-normal 0.8713910699083861 \"])\n",
    "\n",
    "print(x)"
   ]
  },
  {
   "cell_type": "markdown",
   "metadata": {
    "colab_type": "text",
    "id": "f5q92XD0nJ6N"
   },
   "source": [
    "8. Зберегти таблицю в пдф форматі"
   ]
  },
  {
   "cell_type": "code",
   "execution_count": 19,
   "metadata": {},
   "outputs": [],
   "source": [
    "import weasyprint"
   ]
  },
  {
   "cell_type": "code",
   "execution_count": 20,
   "metadata": {},
   "outputs": [],
   "source": [
    "variable=[\"n1\", \"n2\", \"n3\", \"b1\", \"b2\", \"p\"]\n",
    "statistics=[\"9.831128527995801, [6.144434242626973]\",\"5.097140902679359, [3.124054866519493]\", \"73.43321478755448, [49.41642537079125]\", \"12.0 [11.0; 14.0]\", \"49.0 [45.0; 50.25]\", \"4.5 [3.0; 6.0]\"]\n",
    "distribution=[\"normal 0.9165440337934687\", \"normal 0.9657018001524992\", \"normal 0.9092139577292566 \", \"non-normal 0.9427762285714284\", \"non-normal  0.9460447397506367\", \"non-normal 0.8713910699083861\"]\n",
    "\n",
    "df=pd.DataFrame()\n",
    "df['variable']=variable\n",
    "df['statistics']=statistics\n",
    "df['distribution']=distribution\n"
   ]
  },
  {
   "cell_type": "code",
   "execution_count": 21,
   "metadata": {
    "scrolled": true
   },
   "outputs": [
    {
     "data": {
      "text/html": [
       "<div>\n",
       "<style scoped>\n",
       "    .dataframe tbody tr th:only-of-type {\n",
       "        vertical-align: middle;\n",
       "    }\n",
       "\n",
       "    .dataframe tbody tr th {\n",
       "        vertical-align: top;\n",
       "    }\n",
       "\n",
       "    .dataframe thead th {\n",
       "        text-align: right;\n",
       "    }\n",
       "</style>\n",
       "<table border=\"1\" class=\"dataframe\">\n",
       "  <thead>\n",
       "    <tr style=\"text-align: right;\">\n",
       "      <th></th>\n",
       "      <th>variable</th>\n",
       "      <th>statistics</th>\n",
       "      <th>distribution</th>\n",
       "    </tr>\n",
       "  </thead>\n",
       "  <tbody>\n",
       "    <tr>\n",
       "      <th>0</th>\n",
       "      <td>n1</td>\n",
       "      <td>9.831128527995801, [6.144434242626973]</td>\n",
       "      <td>normal 0.9165440337934687</td>\n",
       "    </tr>\n",
       "    <tr>\n",
       "      <th>1</th>\n",
       "      <td>n2</td>\n",
       "      <td>5.097140902679359, [3.124054866519493]</td>\n",
       "      <td>normal 0.9657018001524992</td>\n",
       "    </tr>\n",
       "    <tr>\n",
       "      <th>2</th>\n",
       "      <td>n3</td>\n",
       "      <td>73.43321478755448, [49.41642537079125]</td>\n",
       "      <td>normal 0.9092139577292566</td>\n",
       "    </tr>\n",
       "    <tr>\n",
       "      <th>3</th>\n",
       "      <td>b1</td>\n",
       "      <td>12.0 [11.0; 14.0]</td>\n",
       "      <td>non-normal 0.9427762285714284</td>\n",
       "    </tr>\n",
       "    <tr>\n",
       "      <th>4</th>\n",
       "      <td>b2</td>\n",
       "      <td>49.0 [45.0; 50.25]</td>\n",
       "      <td>non-normal  0.9460447397506367</td>\n",
       "    </tr>\n",
       "    <tr>\n",
       "      <th>5</th>\n",
       "      <td>p</td>\n",
       "      <td>4.5 [3.0; 6.0]</td>\n",
       "      <td>non-normal 0.8713910699083861</td>\n",
       "    </tr>\n",
       "  </tbody>\n",
       "</table>\n",
       "</div>"
      ],
      "text/plain": [
       "  variable                              statistics  \\\n",
       "0       n1  9.831128527995801, [6.144434242626973]   \n",
       "1       n2  5.097140902679359, [3.124054866519493]   \n",
       "2       n3  73.43321478755448, [49.41642537079125]   \n",
       "3       b1                       12.0 [11.0; 14.0]   \n",
       "4       b2                      49.0 [45.0; 50.25]   \n",
       "5        p                          4.5 [3.0; 6.0]   \n",
       "\n",
       "                     distribution  \n",
       "0       normal 0.9165440337934687  \n",
       "1       normal 0.9657018001524992  \n",
       "2      normal 0.9092139577292566   \n",
       "3   non-normal 0.9427762285714284  \n",
       "4  non-normal  0.9460447397506367  \n",
       "5   non-normal 0.8713910699083861  "
      ]
     },
     "execution_count": 21,
     "metadata": {},
     "output_type": "execute_result"
    }
   ],
   "source": [
    "df"
   ]
  },
  {
   "cell_type": "code",
   "execution_count": 45,
   "metadata": {},
   "outputs": [],
   "source": [
    "html1 = '''\n",
    "<html>\n",
    "<head>\n",
    "<style>\n",
    "  h2 {\n",
    "    text-align: center;\n",
    "    font-family: \"Gill Sans\", sans-serif;\n",
    "  }\n",
    "  \n",
    "  table { \n",
    "    margin-left: auto;\n",
    "    margin-right: auto;\n",
    "  }\n",
    "  \n",
    "  table, th, td {\n",
    "    border: 3px solid black;\n",
    "    border-collapse: collapse;\n",
    "  }\n",
    "  \n",
    "  th, td {\n",
    "    padding: 5px;\n",
    "    text-align: center;\n",
    "    font-family: cursive;\n",
    "    font-size: 90%;\n",
    "  }\n",
    "  \n",
    "  table tbody tr:hover {\n",
    "    background-color: #F9EBEA;\n",
    "  }\n",
    "  \n",
    "  .wide {\n",
    "    width: 80%; \n",
    "  }\n",
    "  \n",
    "</style>\n",
    "</head>\n",
    "<body>\n",
    "'''\n",
    "\n",
    "html2 = '''\n",
    "</body>\n",
    "</html>\n",
    "'''\n",
    "\n",
    "intermediate_html = 'intermediate.html'\n",
    "df.to_html(intermediate_html)\n",
    "\n",
    "txt = ''\n",
    "txt += '<h2> %s </h2>\\n' % 'BMD Laba 4'\n",
    "txt += df.to_html(classes='wide', escape=False)\n",
    "with open(intermediate_html, 'w') as f:\n",
    "         f.write(html1 + txt + html2)\n",
    "\n",
    "out_pdf= 'Laba4.pdf'\n",
    "weasyprint.HTML(intermediate_html).write_pdf(out_pdf)"
   ]
  }
 ],
 "metadata": {
  "colab": {
   "name": "Task4.ipynb",
   "provenance": []
  },
  "kernelspec": {
   "display_name": "Python 3",
   "language": "python",
   "name": "python3"
  },
  "language_info": {
   "codemirror_mode": {
    "name": "ipython",
    "version": 3
   },
   "file_extension": ".py",
   "mimetype": "text/x-python",
   "name": "python",
   "nbconvert_exporter": "python",
   "pygments_lexer": "ipython3",
   "version": "3.7.6"
  }
 },
 "nbformat": 4,
 "nbformat_minor": 1
}
