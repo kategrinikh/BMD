{
 "cells": [
  {
   "cell_type": "markdown",
   "metadata": {
    "colab_type": "text",
    "id": "nVYjIYs6RrPC"
   },
   "source": [
    "#Парний t-критерій Стьюдента"
   ]
  },
  {
   "cell_type": "markdown",
   "metadata": {
    "colab_type": "text",
    "id": "XXsl5rFgSnTy"
   },
   "source": [
    "##Теоретичні відомості"
   ]
  },
  {
   "cell_type": "markdown",
   "metadata": {
    "colab_type": "text",
    "id": "PssXphh9SrEZ"
   },
   "source": [
    "### Область застосування"
   ]
  },
  {
   "cell_type": "markdown",
   "metadata": {
    "colab_type": "text",
    "id": "AmI6S5ibR9LK"
   },
   "source": [
    "t-критерій для парних вибірок застосовується для порівняння двох середніх значень отриманих від одного і того об'єкта. Два середніх можуть відображати такі явища, як:\n",
    "\n",
    "* Вимірювання одного показника, які проведено в два різних моменти часу (наприклад, до і після тесту з проведеним втручанням між двома часовими точками)\n",
    "* Вимірювання, проведене в двох різних умовах (наприклад, завершення тесту в умовах «контролю» і «експерименту»)\n",
    "* Вимірювання проводяться з двох половин або сторін від суб'єкта або експериментальної одиниці (наприклад, вимір втрати слуху в лівому і правому вухах суб'єкта).\n",
    "\n",
    "**Мета тесту** - визначити, чи є статистичні докази того, що середнє розходження між парними спостереженнями  значно відрізняється від нуля. t-критерій для парних вибірок - це параметричний тест."
   ]
  },
  {
   "cell_type": "markdown",
   "metadata": {
    "colab_type": "text",
    "id": "JM-Yi2bCV-ki"
   },
   "source": [
    "### Вимоги до даних"
   ]
  },
  {
   "cell_type": "markdown",
   "metadata": {
    "colab_type": "text",
    "id": "34fQ92DpUGbE"
   },
   "source": [
    "Для використання даного критерію обов'язковим є:\n",
    "\n",
    "\n",
    "1.   Залежна змінна має бути безперервною.\n",
    "2.   Групи мають бути залежними.\n",
    "3. Кількість груп не може бути більшою ніж 2.\n",
    "4. Кількість обьектів в групах однакова (кожному спостереженню об'єкта в першій групі відповідає спостереження в другій).\n",
    "5. Залежна група має мати нормальний розподіл.\n",
    "\n"
   ]
  },
  {
   "cell_type": "code",
   "execution_count": 44,
   "metadata": {},
   "outputs": [],
   "source": [
    "import numpy as np\n",
    "import pandas as pd\n",
    "\n",
    "N=10\n",
    "\n",
    "n1=abs(np.random.normal(1, 12, N))\n",
    "n2=abs(np.random.normal(1, 11, N))\n",
    "\n",
    "df=pd.DataFrame()\n",
    "df['group1']=n1\n",
    "df['group2']=n2"
   ]
  },
  {
   "cell_type": "code",
   "execution_count": 45,
   "metadata": {},
   "outputs": [
    {
     "data": {
      "text/html": [
       "<div>\n",
       "<style scoped>\n",
       "    .dataframe tbody tr th:only-of-type {\n",
       "        vertical-align: middle;\n",
       "    }\n",
       "\n",
       "    .dataframe tbody tr th {\n",
       "        vertical-align: top;\n",
       "    }\n",
       "\n",
       "    .dataframe thead th {\n",
       "        text-align: right;\n",
       "    }\n",
       "</style>\n",
       "<table border=\"1\" class=\"dataframe\">\n",
       "  <thead>\n",
       "    <tr style=\"text-align: right;\">\n",
       "      <th></th>\n",
       "      <th>group1</th>\n",
       "      <th>group2</th>\n",
       "    </tr>\n",
       "  </thead>\n",
       "  <tbody>\n",
       "    <tr>\n",
       "      <th>0</th>\n",
       "      <td>7.813085</td>\n",
       "      <td>15.628104</td>\n",
       "    </tr>\n",
       "    <tr>\n",
       "      <th>1</th>\n",
       "      <td>22.050700</td>\n",
       "      <td>22.637550</td>\n",
       "    </tr>\n",
       "    <tr>\n",
       "      <th>2</th>\n",
       "      <td>2.275973</td>\n",
       "      <td>9.748425</td>\n",
       "    </tr>\n",
       "    <tr>\n",
       "      <th>3</th>\n",
       "      <td>3.787658</td>\n",
       "      <td>9.935716</td>\n",
       "    </tr>\n",
       "    <tr>\n",
       "      <th>4</th>\n",
       "      <td>15.099564</td>\n",
       "      <td>3.988104</td>\n",
       "    </tr>\n",
       "    <tr>\n",
       "      <th>5</th>\n",
       "      <td>3.200155</td>\n",
       "      <td>5.771710</td>\n",
       "    </tr>\n",
       "    <tr>\n",
       "      <th>6</th>\n",
       "      <td>20.701951</td>\n",
       "      <td>9.779833</td>\n",
       "    </tr>\n",
       "    <tr>\n",
       "      <th>7</th>\n",
       "      <td>1.834360</td>\n",
       "      <td>3.690797</td>\n",
       "    </tr>\n",
       "    <tr>\n",
       "      <th>8</th>\n",
       "      <td>0.280027</td>\n",
       "      <td>2.399405</td>\n",
       "    </tr>\n",
       "    <tr>\n",
       "      <th>9</th>\n",
       "      <td>7.940662</td>\n",
       "      <td>2.699341</td>\n",
       "    </tr>\n",
       "  </tbody>\n",
       "</table>\n",
       "</div>"
      ],
      "text/plain": [
       "      group1     group2\n",
       "0   7.813085  15.628104\n",
       "1  22.050700  22.637550\n",
       "2   2.275973   9.748425\n",
       "3   3.787658   9.935716\n",
       "4  15.099564   3.988104\n",
       "5   3.200155   5.771710\n",
       "6  20.701951   9.779833\n",
       "7   1.834360   3.690797\n",
       "8   0.280027   2.399405\n",
       "9   7.940662   2.699341"
      ]
     },
     "execution_count": 45,
     "metadata": {},
     "output_type": "execute_result"
    }
   ],
   "source": [
    "df"
   ]
  },
  {
   "cell_type": "code",
   "execution_count": 51,
   "metadata": {},
   "outputs": [
    {
     "data": {
      "text/plain": [
       "<matplotlib.axes._subplots.AxesSubplot at 0x4c2f8c4188>"
      ]
     },
     "execution_count": 51,
     "metadata": {},
     "output_type": "execute_result"
    },
    {
     "data": {
      "image/png": "[encoded data removed]",
      "text/plain": [
       "<Figure size 432x288 with 1 Axes>"
      ]
     },
     "metadata": {
      "needs_background": "light"
     },
     "output_type": "display_data"
    }
   ],
   "source": [
    "import seaborn as sns\n",
    "%matplotlib inline\n",
    "\n",
    "sns.boxplot(data=df)"
   ]
  },
  {
   "cell_type": "markdown",
   "metadata": {
    "colab_type": "text",
    "id": "QbCE8jwcaSEr"
   },
   "source": [
    "### Гіпотеза"
   ]
  },
  {
   "cell_type": "markdown",
   "metadata": {
    "colab_type": "text",
    "id": "rq2hTPtmaV1p"
   },
   "source": [
    "Гіпотеза, яка перевіряєть даним тестом може бути виражена наступним чином:\n",
    "\n",
    "$H_0 : μ_1  = μ_2$ («парні групи рівні»)\n",
    "\n",
    "$H_1 : μ_1  ≠ μ_2$ («парні групи відмінні»)\n",
    "\n",
    "або:\n",
    "\n",
    "$H_0 : μ_1  - μ_2 = 0$ («різниця між середніми у парних групах за показником, що досліджується рівна 0»)\n",
    "\n",
    "$H_1 : μ_1 -  μ_2$ ≠ 0 $ («різниця між середніми у парних групах за показником, що досліджується не рівна 0»)\n",
    "\n",
    "Тут $μ_1$ - середнє значення змінної в першій групі; $μ_2$ - середнє значення змінної в першій групі."
   ]
  },
  {
   "cell_type": "markdown",
   "metadata": {
    "colab_type": "text",
    "id": "7TMrlGz4bXuH"
   },
   "source": [
    "### Алгоритм розрахунку"
   ]
  },
  {
   "cell_type": "markdown",
   "metadata": {
    "colab_type": "text",
    "id": "hKV0qbE0blUT"
   },
   "source": [
    "#### Аналіз залежності між групами"
   ]
  },
  {
   "cell_type": "markdown",
   "metadata": {
    "colab_type": "text",
    "id": "mmfhYMmocyC1"
   },
   "source": [
    "Перед визначенням відмінності за парним критерієм Стьюента необхідно перевірити чи є зв'язок між групами.\n",
    "Для цього використовують коефіцієнт кореляції Пірсона. Його розраховують за формулою:\n",
    "$$ r = \\frac{n\\cdot \\sum(x_i\\cdot y_i) - (\\sum x_i \\cdot \\sum y_i)}{\\sqrt{(n\\cdot \\sum x_i^2 - (\\sum x_i) ^2) \\cdot (n\\cdot \\sum y_i^2 - (\\sum y_i) ^2)}} $$\n",
    "\n",
    "При знаходженні критичних значень для обчисленого коефіцієнта кореляції Пірсона  число ступенів свободи розраховується як $ df = n - 2 $. Знайдіть у [таблиці](https://drive.google.com/open?id=1e2bk9_U3qg3SVZ-lmeLkJcLQywm6fetc) рядок з відповідним або найбільш близьким df.\n",
    "\n",
    "Якщо отриманий коефіцієнт кореляції більше табличного - існує статистично значима залежність між групами.\n",
    "\n",
    "Величину зв'зку можна оцінити а таблицею:\n",
    "\n",
    "\n",
    "Значення r  | Висновок |\n",
    "------------- | ------------- |\n",
    "0-0,3  | дуже слабкий  |\n",
    "0,31-0,5  | слабкий   |\n",
    "0,51-0,7  | середній   |\n",
    "0,71-0,9  | високий   |\n",
    "0,91-1  | дуже високий   |\n",
    "\n"
   ]
  },
  {
   "cell_type": "code",
   "execution_count": 47,
   "metadata": {},
   "outputs": [],
   "source": [
    "def pirson(x, y, n):\n",
    "\n",
    "    r=0\n",
    "\n",
    "    sumXY=0\n",
    "    nsumXY=0\n",
    "    for i in range(n):\n",
    "        sumXY+=x[i]*y[i]\n",
    "    nsumXY=n*sumXY\n",
    "\n",
    "    sumY=0\n",
    "    sumX=0\n",
    "    dobXY=1\n",
    "    for i in range(n):\n",
    "        sumY+=y[i]\n",
    "        sumX+=x[i]\n",
    "    dobXY=sumX*sumY\n",
    "\n",
    "    sumX2=0\n",
    "    sumY2=0\n",
    "    ssumX=sumX**2\n",
    "    ssumY=sumY**2\n",
    "    for i in range(n):\n",
    "        sumX2+=x[i]**2\n",
    "        sumY2+=y[i]**2\n",
    "    \n",
    "    nsumX2=n*sumX2\n",
    "    nsumY2=n*sumY2\n",
    "    rx=nsumX2-ssumX\n",
    "    ry=nsumY2-ssumY\n",
    "\n",
    "    r=(nsumXY-dobXY)/((rx*ry)**(1/2))\n",
    "\n",
    "    df=n-2\n",
    "    c=0\n",
    "\n",
    "    xl=pd.read_excel(r'C:\\Git\\BMD\\laba №6\\Source/tab1.xlsx', sheet_name='Лист1')\n",
    "    \n",
    "    a=xl.df\n",
    "    b=xl.res\n",
    "    for i in range(n):\n",
    "        if a[i]==df:\n",
    "            c=i\n",
    "\n",
    "    print(\"Кількість ступенів свободи: \", df)\n",
    "    print(\"Значення коефіцієнту кореляції: \", r)\n",
    "\n",
    "    if r>b[c]:\n",
    "        print(\"існує статистично значима залежність між групами: \", r, \">\", b[c])\n",
    "    else:\n",
    "        print(\"залежність між групами не статистично значима: \", r, \"<\", b[c])\n",
    "    "
   ]
  },
  {
   "cell_type": "markdown",
   "metadata": {
    "colab_type": "text",
    "id": "KgENLjetczvG"
   },
   "source": [
    "#### Аналіз відмінності між групами"
   ]
  },
  {
   "cell_type": "markdown",
   "metadata": {
    "colab_type": "text",
    "id": "YlJy8hjG_qyc"
   },
   "source": [
    "1. Розрахунок різниці між парними значеннями для кожного об'єкта. Приклад:\n",
    "\n",
    "Група 1 (до)  | Група 2 (після) | Різниця ($d$) |\n",
    "------------- | ------------- |--------- |\n",
    "3  | 5  | -2   |\n",
    "1  | 8   | -7   |\n",
    "10  | 0   | 10   |\n",
    "\n",
    "2. Розрахунок стататистичних показників:\n",
    "\n",
    "\n",
    "*   Середнє значення різниці між значеннями ($M_d$).\n",
    "*   Стандарне відхилення різниці між заченнями ($\\sigma_d$).\n",
    "3. Розрахунок значення t-критерію Стюдента за формулою:\n",
    "\n",
    "$$t_{emp} = \\frac{M_d}{\\sigma_d}\\cdot\\sqrt{n}\\$$\n",
    "\n",
    "4. Визначення ступеня свободи критерію:\n",
    "\n",
    "$$ df = n - 1 $$\n",
    "\n",
    "5. Визначимо по  [таблиці критичних значень](https://drive.google.com/open?id=1e2bk9_U3qg3SVZ-lmeLkJcLQywm6fetc)  t-Стьюдента рівень значущості. Знайдіть у таблиці рядок з відповідним або найбільш близьким df.\n",
    "Якщо $t_{emp} > t_{critical}$  приймається альтернативна гіпотеза про відмінність в середніх, в протилежному випадку - приймається нульова гіпотеза про рівність середніх."
   ]
  },
  {
   "cell_type": "code",
   "execution_count": 77,
   "metadata": {},
   "outputs": [],
   "source": [
    "def student(x, y, n):\n",
    "    d=[0]*n\n",
    "    sum1=0\n",
    "    sum2=0\n",
    "    \n",
    "    for i in range(n):\n",
    "        d[i]=x[i]-y[i]\n",
    "        sum1+=d[i]\n",
    "    md=sum1/n\n",
    "    \n",
    "    for i in range(n):\n",
    "        sum2+=(d[i]-md)**2\n",
    "    sd=(sum2/n)**(1/2)\n",
    "    \n",
    "    t=(md/sd)*(n**(1/2))\n",
    "    \n",
    "    df=n-1\n",
    "    xl=pd.read_excel(r'C:\\Git\\BMD\\laba №6\\Source/tab2.xlsx', sheet_name='Лист1')\n",
    "    a=xl.df\n",
    "    b=xl.result\n",
    "    for i in range(n):\n",
    "        if a[i]==df:\n",
    "            c=i\n",
    "            \n",
    "    print(\"Кількість ступенів свободи: \", df)\n",
    "    print(\"Значення критерію Стьдента: \", t)\n",
    "    \n",
    "    if t>b[c]:\n",
    "        print(\"приймається альтернативна гіпотеза про відмінність в середніх, оскільки \", t, \">\", b[c])\n",
    "    else:\n",
    "        print(\" приймається нульова гіпотеза про рівність середніх, оскільки \", t, \"<\", b[c])"
   ]
  },
  {
   "cell_type": "markdown",
   "metadata": {
    "colab_type": "text",
    "id": "uzWnVaq1PU-l"
   },
   "source": [
    "# Завдання\n",
    "\n",
    "1. Обрати реальні дані з kaggle або сгенерувати випадкові дані. Дані мають відповідати вимогам викладеним вище. Формат даних:\n",
    "\n",
    "| Група 1 | Група 2  | \n",
    "| ------------- |--------- |\n",
    "| $k_{1}  $   | $k_{2}$   |\n",
    "| $...$   | $...$   |\n",
    "| $k_{1n}$   | $k_{2n}$   |\n",
    "\n",
    "2. Побудувати графік, що відображає розкид даних в групах. Приклад:\n",
    "![alt text](https://s3.amazonaws.com/libapps/accounts/2515/images/spss_paired-t_example_boxplot.PNG)\n",
    "\n",
    "3. Написати функції:\n",
    "* для оцінки зв'язку між групами за коефіцієнтом кореляції Пірсона. Функція має повертати значення коефіцієнту кореляції, значення ступеня свободи та результат оцінки значимості зв'зку (significant або not significant).\n",
    "\n",
    "* для визначення відмінності між групами за критерієм Стьюдента. Функція має повертати значення критерію Стьюдента,значення ступеня свободи та результат оцінки значимості зв'зку (significant або not significant). \n",
    "\n",
    "4. Перевірити розбіжність на між групами на даних з п. 1. \n",
    "\n",
    "5. Сформувати висновок про взаємозв'язок між групами та про їх розбіжність. "
   ]
  },
  {
   "cell_type": "code",
   "execution_count": 80,
   "metadata": {},
   "outputs": [
    {
     "name": "stdout",
     "output_type": "stream",
     "text": [
      "Кількість ступенів свободи:  8\n",
      "Значення коефіцієнту кореляції:  0.5521014383813379\n",
      "залежність між групами не статистично значима:  0.5521014383813379 < 2.306\n",
      "**********************\n",
      "Кількість ступенів свободи:  9\n",
      "Значення критерію Стьдента:  -0.061752808041898574\n",
      " приймається нульова гіпотеза про рівність середніх, оскільки  -0.061752808041898574 < 0.6021\n"
     ]
    }
   ],
   "source": [
    "pirson(n1, n2, N)\n",
    "print(\"**********************\")\n",
    "student(n1, n2, N)\n"
   ]
  },
  {
   "cell_type": "code",
   "execution_count": null,
   "metadata": {},
   "outputs": [],
   "source": [
    "Висновок: залежність між групами не є статистично значимою, про що говорить критерій Пірсона, \n",
    "проте різниця між середніми у парних групах за показником, що досліджується рівна 0, а отже парні групи рінві."
   ]
  }
 ],
 "metadata": {
  "colab": {
   "authorship_tag": "ABX9TyMwT/dAZl/1rpxxB0yoZkPg",
   "name": "Tast6.ipynb",
   "provenance": []
  },
  "kernelspec": {
   "display_name": "Python 3",
   "language": "python",
   "name": "python3"
  },
  "language_info": {
   "codemirror_mode": {
    "name": "ipython",
    "version": 3
   },
   "file_extension": ".py",
   "mimetype": "text/x-python",
   "name": "python",
   "nbconvert_exporter": "python",
   "pygments_lexer": "ipython3",
   "version": "3.7.6"
  }
 },
 "nbformat": 4,
 "nbformat_minor": 1
}
